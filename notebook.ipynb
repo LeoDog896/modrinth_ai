{
 "cells": [
  {
   "cell_type": "code",
   "execution_count": 1,
   "metadata": {},
   "outputs": [
    {
     "name": "stdout",
     "output_type": "stream",
     "text": [
      "Defaulting to user installation because normal site-packages is not writeable\n",
      "Requirement already satisfied: gpt_2_simple in /home/leodog896/.local/lib/python3.10/site-packages (0.8.1)\n",
      "Requirement already satisfied: tensorflow>=2.5.1 in /home/leodog896/.local/lib/python3.10/site-packages (from gpt_2_simple) (2.9.1)\n",
      "Requirement already satisfied: regex in /usr/lib64/python3.10/site-packages (from gpt_2_simple) (2022.6.2)\n",
      "Requirement already satisfied: requests in /usr/lib/python3.10/site-packages (from gpt_2_simple) (2.27.1)\n",
      "Requirement already satisfied: tqdm in /home/leodog896/.local/lib/python3.10/site-packages (from gpt_2_simple) (4.64.0)\n",
      "Requirement already satisfied: numpy in /home/leodog896/.local/lib/python3.10/site-packages (from gpt_2_simple) (1.23.2)\n",
      "Requirement already satisfied: toposort in /home/leodog896/.local/lib/python3.10/site-packages (from gpt_2_simple) (1.7)\n",
      "Requirement already satisfied: absl-py>=1.0.0 in /home/leodog896/.local/lib/python3.10/site-packages (from tensorflow>=2.5.1->gpt_2_simple) (1.2.0)\n",
      "Requirement already satisfied: flatbuffers<2,>=1.12 in /home/leodog896/.local/lib/python3.10/site-packages (from tensorflow>=2.5.1->gpt_2_simple) (1.12)\n",
      "Requirement already satisfied: keras-preprocessing>=1.1.1 in /home/leodog896/.local/lib/python3.10/site-packages (from tensorflow>=2.5.1->gpt_2_simple) (1.1.2)\n",
      "Requirement already satisfied: wrapt>=1.11.0 in /home/leodog896/.local/lib/python3.10/site-packages (from tensorflow>=2.5.1->gpt_2_simple) (1.14.1)\n",
      "Requirement already satisfied: opt-einsum>=2.3.2 in /home/leodog896/.local/lib/python3.10/site-packages (from tensorflow>=2.5.1->gpt_2_simple) (3.3.0)\n",
      "Requirement already satisfied: packaging in /usr/lib/python3.10/site-packages (from tensorflow>=2.5.1->gpt_2_simple) (21.3)\n",
      "Requirement already satisfied: grpcio<2.0,>=1.24.3 in /home/leodog896/.local/lib/python3.10/site-packages (from tensorflow>=2.5.1->gpt_2_simple) (1.47.0)\n",
      "Requirement already satisfied: h5py>=2.9.0 in /home/leodog896/.local/lib/python3.10/site-packages (from tensorflow>=2.5.1->gpt_2_simple) (3.7.0)\n",
      "Requirement already satisfied: protobuf<3.20,>=3.9.2 in /home/leodog896/.local/lib/python3.10/site-packages (from tensorflow>=2.5.1->gpt_2_simple) (3.19.4)\n",
      "Requirement already satisfied: tensorflow-io-gcs-filesystem>=0.23.1 in /home/leodog896/.local/lib/python3.10/site-packages (from tensorflow>=2.5.1->gpt_2_simple) (0.26.0)\n",
      "Requirement already satisfied: libclang>=13.0.0 in /home/leodog896/.local/lib/python3.10/site-packages (from tensorflow>=2.5.1->gpt_2_simple) (14.0.6)\n",
      "Requirement already satisfied: typing-extensions>=3.6.6 in /home/leodog896/.local/lib/python3.10/site-packages (from tensorflow>=2.5.1->gpt_2_simple) (4.3.0)\n",
      "Requirement already satisfied: setuptools in /usr/lib/python3.10/site-packages (from tensorflow>=2.5.1->gpt_2_simple) (59.6.0)\n",
      "Requirement already satisfied: tensorboard<2.10,>=2.9 in /home/leodog896/.local/lib/python3.10/site-packages (from tensorflow>=2.5.1->gpt_2_simple) (2.9.1)\n",
      "Requirement already satisfied: tensorflow-estimator<2.10.0,>=2.9.0rc0 in /home/leodog896/.local/lib/python3.10/site-packages (from tensorflow>=2.5.1->gpt_2_simple) (2.9.0)\n",
      "Requirement already satisfied: astunparse>=1.6.0 in /home/leodog896/.local/lib/python3.10/site-packages (from tensorflow>=2.5.1->gpt_2_simple) (1.6.3)\n",
      "Requirement already satisfied: keras<2.10.0,>=2.9.0rc0 in /home/leodog896/.local/lib/python3.10/site-packages (from tensorflow>=2.5.1->gpt_2_simple) (2.9.0)\n",
      "Requirement already satisfied: gast<=0.4.0,>=0.2.1 in /home/leodog896/.local/lib/python3.10/site-packages (from tensorflow>=2.5.1->gpt_2_simple) (0.4.0)\n",
      "Requirement already satisfied: six>=1.12.0 in /usr/lib/python3.10/site-packages (from tensorflow>=2.5.1->gpt_2_simple) (1.16.0)\n",
      "Requirement already satisfied: google-pasta>=0.1.1 in /home/leodog896/.local/lib/python3.10/site-packages (from tensorflow>=2.5.1->gpt_2_simple) (0.2.0)\n",
      "Requirement already satisfied: termcolor>=1.1.0 in /home/leodog896/.local/lib/python3.10/site-packages (from tensorflow>=2.5.1->gpt_2_simple) (1.1.0)\n",
      "Requirement already satisfied: idna<4,>=2.5 in /usr/lib/python3.10/site-packages (from requests->gpt_2_simple) (3.3)\n",
      "Requirement already satisfied: urllib3<1.27,>=1.21.1 in /usr/lib/python3.10/site-packages (from requests->gpt_2_simple) (1.26.8)\n",
      "Requirement already satisfied: charset-normalizer~=2.0.0 in /usr/lib/python3.10/site-packages (from requests->gpt_2_simple) (2.0.11)\n",
      "Requirement already satisfied: wheel<1.0,>=0.23.0 in /home/leodog896/.local/lib/python3.10/site-packages (from astunparse>=1.6.0->tensorflow>=2.5.1->gpt_2_simple) (0.37.1)\n",
      "Requirement already satisfied: tensorboard-plugin-wit>=1.6.0 in /home/leodog896/.local/lib/python3.10/site-packages (from tensorboard<2.10,>=2.9->tensorflow>=2.5.1->gpt_2_simple) (1.8.1)\n",
      "Requirement already satisfied: google-auth-oauthlib<0.5,>=0.4.1 in /home/leodog896/.local/lib/python3.10/site-packages (from tensorboard<2.10,>=2.9->tensorflow>=2.5.1->gpt_2_simple) (0.4.6)\n",
      "Requirement already satisfied: werkzeug>=1.0.1 in /home/leodog896/.local/lib/python3.10/site-packages (from tensorboard<2.10,>=2.9->tensorflow>=2.5.1->gpt_2_simple) (2.2.2)\n",
      "Requirement already satisfied: tensorboard-data-server<0.7.0,>=0.6.0 in /home/leodog896/.local/lib/python3.10/site-packages (from tensorboard<2.10,>=2.9->tensorflow>=2.5.1->gpt_2_simple) (0.6.1)\n",
      "Requirement already satisfied: google-auth<3,>=1.6.3 in /home/leodog896/.local/lib/python3.10/site-packages (from tensorboard<2.10,>=2.9->tensorflow>=2.5.1->gpt_2_simple) (2.11.0)\n",
      "Requirement already satisfied: markdown>=2.6.8 in /home/leodog896/.local/lib/python3.10/site-packages (from tensorboard<2.10,>=2.9->tensorflow>=2.5.1->gpt_2_simple) (3.4.1)\n",
      "Requirement already satisfied: pyparsing!=3.0.5,>=2.0.2 in /usr/lib/python3.10/site-packages (from packaging->tensorflow>=2.5.1->gpt_2_simple) (2.4.7)\n",
      "Requirement already satisfied: rsa<5,>=3.1.4 in /home/leodog896/.local/lib/python3.10/site-packages (from google-auth<3,>=1.6.3->tensorboard<2.10,>=2.9->tensorflow>=2.5.1->gpt_2_simple) (4.9)\n",
      "Requirement already satisfied: pyasn1-modules>=0.2.1 in /home/leodog896/.local/lib/python3.10/site-packages (from google-auth<3,>=1.6.3->tensorboard<2.10,>=2.9->tensorflow>=2.5.1->gpt_2_simple) (0.2.8)\n",
      "Requirement already satisfied: cachetools<6.0,>=2.0.0 in /home/leodog896/.local/lib/python3.10/site-packages (from google-auth<3,>=1.6.3->tensorboard<2.10,>=2.9->tensorflow>=2.5.1->gpt_2_simple) (5.2.0)\n",
      "Requirement already satisfied: requests-oauthlib>=0.7.0 in /home/leodog896/.local/lib/python3.10/site-packages (from google-auth-oauthlib<0.5,>=0.4.1->tensorboard<2.10,>=2.9->tensorflow>=2.5.1->gpt_2_simple) (1.3.1)\n",
      "Requirement already satisfied: MarkupSafe>=2.1.1 in /usr/lib64/python3.10/site-packages (from werkzeug>=1.0.1->tensorboard<2.10,>=2.9->tensorflow>=2.5.1->gpt_2_simple) (2.1.1)\n",
      "Requirement already satisfied: pyasn1<0.5.0,>=0.4.6 in /home/leodog896/.local/lib/python3.10/site-packages (from pyasn1-modules>=0.2.1->google-auth<3,>=1.6.3->tensorboard<2.10,>=2.9->tensorflow>=2.5.1->gpt_2_simple) (0.4.8)\n",
      "Requirement already satisfied: oauthlib>=3.0.0 in /home/leodog896/.local/lib/python3.10/site-packages (from requests-oauthlib>=0.7.0->google-auth-oauthlib<0.5,>=0.4.1->tensorboard<2.10,>=2.9->tensorflow>=2.5.1->gpt_2_simple) (3.2.0)\n",
      "Note: you may need to restart the kernel to use updated packages.\n"
     ]
    }
   ],
   "source": [
    "%pip install gpt_2_simple"
   ]
  },
  {
   "cell_type": "code",
   "execution_count": 1,
   "metadata": {},
   "outputs": [
    {
     "name": "stderr",
     "output_type": "stream",
     "text": [
      "2022-08-27 22:52:21.611598: W tensorflow/stream_executor/platform/default/dso_loader.cc:64] Could not load dynamic library 'libcudart.so.11.0'; dlerror: libcudart.so.11.0: cannot open shared object file: No such file or directory\n",
      "2022-08-27 22:52:21.611618: I tensorflow/stream_executor/cuda/cudart_stub.cc:29] Ignore above cudart dlerror if you do not have a GPU set up on your machine.\n",
      "2022-08-27 22:52:23.113009: I tensorflow/core/platform/cpu_feature_guard.cc:193] This TensorFlow binary is optimized with oneAPI Deep Neural Network Library (oneDNN) to use the following CPU instructions in performance-critical operations:  AVX2 FMA\n",
      "To enable them in other operations, rebuild TensorFlow with the appropriate compiler flags.\n",
      "2022-08-27 22:52:23.113681: W tensorflow/stream_executor/platform/default/dso_loader.cc:64] Could not load dynamic library 'libcuda.so.1'; dlerror: libcuda.so.1: cannot open shared object file: No such file or directory\n",
      "2022-08-27 22:52:23.113697: W tensorflow/stream_executor/cuda/cuda_driver.cc:269] failed call to cuInit: UNKNOWN ERROR (303)\n",
      "2022-08-27 22:52:23.113710: I tensorflow/stream_executor/cuda/cuda_diagnostics.cc:156] kernel driver does not appear to be running on this host (nwstrtrj01.rd.lv.cox.cci): /proc/driver/nvidia/version does not exist\n"
     ]
    }
   ],
   "source": [
    "import gpt_2_simple as gpt2\n",
    "import os\n",
    "import requests\n",
    "\n",
    "model_name = \"124M\"\n",
    "if not os.path.isdir(os.path.join(\"models\", model_name)):\n",
    "\tprint(f\"Downloading {model_name} model...\")\n",
    "\tgpt2.download_gpt2(model_name=model_name)   # model is saved into current directory under /models/124M/\n",
    "\n",
    "\n",
    "file_name = \"data.txt\"\n",
    "if not os.path.isfile(file_name):\n",
    "\turl = \"https://raw.githubusercontent.com/LeoDog896/modrinth_ai/master/data.txt\"\n",
    "\tdata = requests.get(url)\n",
    "\n",
    "\twith open(file_name, 'w') as f:\n",
    "\t\tf.write(data.text)\n",
    "\n",
    "\n",
    "sess = gpt2.start_tf_sess()\n",
    "gpt2.finetune(sess,\n",
    "              file_name,\n",
    "              model_name=model_name,\n",
    "              steps=1000,\n",
    "              restore_from='fresh',\n",
    "              run_name='run1',\n",
    "              print_every=1,\n",
    "              sample_every=10,\n",
    "              save_every=500)   # steps is max number of training steps\n",
    "\n",
    "gpt2.generate(sess)"
   ]
  }
 ],
 "metadata": {
  "kernelspec": {
   "display_name": "Python 3.10.6 64-bit",
   "language": "python",
   "name": "python3"
  },
  "language_info": {
   "codemirror_mode": {
    "name": "ipython",
    "version": 3
   },
   "file_extension": ".py",
   "mimetype": "text/x-python",
   "name": "python",
   "nbconvert_exporter": "python",
   "pygments_lexer": "ipython3",
   "version": "3.10.6"
  },
  "orig_nbformat": 4,
  "vscode": {
   "interpreter": {
    "hash": "e7370f93d1d0cde622a1f8e1c04877d8463912d04d973331ad4851f04de6915a"
   }
  }
 },
 "nbformat": 4,
 "nbformat_minor": 2
}
